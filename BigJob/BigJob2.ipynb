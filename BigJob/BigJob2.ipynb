{
 "cells": [
  {
   "cell_type": "code",
   "execution_count": 30,
   "metadata": {},
   "outputs": [
    {
     "name": "stdout",
     "output_type": "stream",
     "text": [
      "Precision: 1.00\n",
      "Recall: 1.00\n",
      "F1 Score: 1.00\n"
     ]
    }
   ],
   "source": [
    "import numpy as np\n",
    "import pandas as pd\n",
    "import matplotlib.pyplot as plt\n",
    "import seaborn as sns\n",
    "import warnings\n",
    "warnings.filterwarnings(\"ignore\")\n",
    "\n",
    "plt.rc(\"font\",family='KaiTi')       #指定中文字体，不然会乱码\n",
    "#%matplotlib inline是Jupyter Notebook的魔术命令，用于在 Notebook 中以行内方式显示 matplotlib 绘图\n",
    "%config InlineBackend.figure_format = 'retina'      #绘制高清图像\n",
    "%matplotlib inline\n",
    "\n",
    "# 从文件中读取iris数据集\n",
    "iris_features = pd.read_csv('iris/iris.data', header=None, names=['sepal length', 'sepal width', 'petal length', 'petal width', 'class'])\n",
    "\n",
    "# 提取目标变量\n",
    "iris_class = iris_features['class']\n",
    "iris_target = np.concatenate((np.zeros(50), np.ones(50), np.full(50, 2)))\n",
    "iris_target = iris_target.astype(int)  # 将数据类型转换为整数类型\n",
    "## 合并标签和特征信息\n",
    "iris_all = iris_features.copy() ##进行浅拷贝，防止对于原始数据的修改\n",
    "\n",
    "## 划分为训练集和测试集\n",
    "from sklearn.model_selection import train_test_split\n",
    "\n",
    "# 删除 \"class\" 列\n",
    "iris_all = iris_all.drop(columns=[\"class\"])\n",
    "\n",
    "## 选择其类别为0和1的样本 （不包括类别为2的样本）\n",
    "iris_features_part = iris_all.iloc[:100]\n",
    "iris_target_part = iris_target[:100]\n",
    "\n",
    "# 训练集测试集7/3分\n",
    "x_train, x_test, y_train, y_test = train_test_split(iris_features_part, iris_target_part, test_size = 0.3, random_state = 2020)\n",
    "\n",
    "## 从sklearn中导入逻辑回归模型\n",
    "from sklearn.linear_model import LogisticRegression\n",
    "clf = LogisticRegression(random_state=0, solver='lbfgs')\n",
    "\n",
    "# 训练模型\n",
    "clf.fit(x_train, y_train)\n",
    "\n",
    "## 预测模型\n",
    "train_predict = clf.predict(x_train)\n",
    "test_predict = clf.predict(x_test)\n",
    "\n",
    "from sklearn import metrics\n",
    "\n",
    "# 计算精确度、召回率和 F1 指数\n",
    "precision = metrics.precision_score(y_test, test_predict)\n",
    "recall = metrics.recall_score(y_test, test_predict)\n",
    "f1_score = metrics.f1_score(y_test, test_predict)\n",
    "\n",
    "print('Precision: {:.2f}'.format(precision))\n",
    "print('Recall: {:.2f}'.format(recall))\n",
    "print('F1 Score: {:.2f}'.format(f1_score))\n"
   ]
  }
 ],
 "metadata": {
  "kernelspec": {
   "display_name": "base",
   "language": "python",
   "name": "python3"
  },
  "language_info": {
   "codemirror_mode": {
    "name": "ipython",
    "version": 3
   },
   "file_extension": ".py",
   "mimetype": "text/x-python",
   "name": "python",
   "nbconvert_exporter": "python",
   "pygments_lexer": "ipython3",
   "version": "3.10.12"
  }
 },
 "nbformat": 4,
 "nbformat_minor": 2
}
